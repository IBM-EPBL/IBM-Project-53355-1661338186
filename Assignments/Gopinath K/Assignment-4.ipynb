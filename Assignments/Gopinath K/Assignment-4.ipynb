{
 "cells": [
  {
   "cell_type": "markdown",
   "id": "ad588ccb",
   "metadata": {},
   "source": [
    "# Assignment-4"
   ]
  },
  {
   "cell_type": "markdown",
   "id": "3c8a759d",
   "metadata": {},
   "source": [
    "# Load the dataset"
   ]
  },
  {
   "cell_type": "code",
   "execution_count": 4,
   "id": "98844dd4",
   "metadata": {},
   "outputs": [],
   "source": [
    "import pandas as pd\n",
    "import numpy as np\n",
    "import os\n",
    "os.chdir(\"D:\\IBM PROJECTS\")"
   ]
  },
  {
   "cell_type": "code",
   "execution_count": 5,
   "id": "9dea83b4",
   "metadata": {},
   "outputs": [
    {
     "data": {
      "text/html": [
       "<div>\n",
       "<style scoped>\n",
       "    .dataframe tbody tr th:only-of-type {\n",
       "        vertical-align: middle;\n",
       "    }\n",
       "\n",
       "    .dataframe tbody tr th {\n",
       "        vertical-align: top;\n",
       "    }\n",
       "\n",
       "    .dataframe thead th {\n",
       "        text-align: right;\n",
       "    }\n",
       "</style>\n",
       "<table border=\"1\" class=\"dataframe\">\n",
       "  <thead>\n",
       "    <tr style=\"text-align: right;\">\n",
       "      <th></th>\n",
       "      <th>CustomerID</th>\n",
       "      <th>Gender</th>\n",
       "      <th>Age</th>\n",
       "      <th>Annual Income (k$)</th>\n",
       "      <th>Spending Score (1-100)</th>\n",
       "    </tr>\n",
       "  </thead>\n",
       "  <tbody>\n",
       "    <tr>\n",
       "      <th>0</th>\n",
       "      <td>1</td>\n",
       "      <td>Male</td>\n",
       "      <td>19</td>\n",
       "      <td>15</td>\n",
       "      <td>39</td>\n",
       "    </tr>\n",
       "    <tr>\n",
       "      <th>1</th>\n",
       "      <td>2</td>\n",
       "      <td>Male</td>\n",
       "      <td>21</td>\n",
       "      <td>15</td>\n",
       "      <td>81</td>\n",
       "    </tr>\n",
       "    <tr>\n",
       "      <th>2</th>\n",
       "      <td>3</td>\n",
       "      <td>Female</td>\n",
       "      <td>20</td>\n",
       "      <td>16</td>\n",
       "      <td>6</td>\n",
       "    </tr>\n",
       "    <tr>\n",
       "      <th>3</th>\n",
       "      <td>4</td>\n",
       "      <td>Female</td>\n",
       "      <td>23</td>\n",
       "      <td>16</td>\n",
       "      <td>77</td>\n",
       "    </tr>\n",
       "    <tr>\n",
       "      <th>4</th>\n",
       "      <td>5</td>\n",
       "      <td>Female</td>\n",
       "      <td>31</td>\n",
       "      <td>17</td>\n",
       "      <td>40</td>\n",
       "    </tr>\n",
       "  </tbody>\n",
       "</table>\n",
       "</div>"
      ],
      "text/plain": [
       "   CustomerID  Gender  Age  Annual Income (k$)  Spending Score (1-100)\n",
       "0           1    Male   19                  15                      39\n",
       "1           2    Male   21                  15                      81\n",
       "2           3  Female   20                  16                       6\n",
       "3           4  Female   23                  16                      77\n",
       "4           5  Female   31                  17                      40"
      ]
     },
     "execution_count": 5,
     "metadata": {},
     "output_type": "execute_result"
    }
   ],
   "source": [
    "df=pd.read_csv(\"Mall_Customers.csv\")\n",
    "df.head()"
   ]
  },
  {
   "cell_type": "markdown",
   "id": "09b04a14",
   "metadata": {},
   "source": [
    "# Perform Below Visualizations"
   ]
  },
  {
   "cell_type": "markdown",
   "id": "b652eea7",
   "metadata": {},
   "source": [
    "# Univariate Analysis"
   ]
  },
  {
   "cell_type": "code",
   "execution_count": 6,
   "id": "3438e502",
   "metadata": {},
   "outputs": [],
   "source": [
    "import matplotlib.pyplot as plt\n",
    "import seaborn as sns\n",
    "%matplotlib inline"
   ]
  },
  {
   "cell_type": "code",
   "execution_count": 7,
   "id": "680ec08f",
   "metadata": {},
   "outputs": [
    {
     "data": {
      "image/png": "[encoded data removed]",
      "text/plain": [
       "<Figure size 432x288 with 1 Axes>"
      ]
     },
     "metadata": {
      "needs_background": "light"
     },
     "output_type": "display_data"
    }
   ],
   "source": [
    "plt.plot(df['Annual Income (k$)'])\n",
    "plt.show()"
   ]
  },
  {
   "cell_type": "code",
   "execution_count": 8,
   "id": "9eeca162",
   "metadata": {},
   "outputs": [
    {
     "data": {
      "text/plain": [
       "(array([24., 22., 28., 38., 30., 36.,  8.,  6.,  4.,  4.]),\n",
       " array([ 15. ,  27.2,  39.4,  51.6,  63.8,  76. ,  88.2, 100.4, 112.6,\n",
       "        124.8, 137. ]),\n",
       " <BarContainer object of 10 artists>)"
      ]
     },
     "execution_count": 8,
     "metadata": {},
     "output_type": "execute_result"
    },
    {
     "data": {
      "image/png": "[encoded data removed]",
      "text/plain": [
       "<Figure size 432x288 with 1 Axes>"
      ]
     },
     "metadata": {
      "needs_background": "light"
     },
     "output_type": "display_data"
    }
   ],
   "source": [
    "plt.hist(df['Annual Income (k$)'])"
   ]
  },
  {
   "cell_type": "code",
   "execution_count": 9,
   "id": "a622884c",
   "metadata": {},
   "outputs": [
    {
     "name": "stderr",
     "output_type": "stream",
     "text": [
      "C:\\Users\\Nazzer\\anaconda3\\lib\\site-packages\\seaborn\\_decorators.py:36: FutureWarning: Pass the following variable as a keyword arg: x. From version 0.12, the only valid positional argument will be `data`, and passing other arguments without an explicit keyword will result in an error or misinterpretation.\n",
      "  warnings.warn(\n"
     ]
    },
    {
     "data": {
      "text/plain": [
       "<AxesSubplot:xlabel='Gender', ylabel='count'>"
      ]
     },
     "execution_count": 9,
     "metadata": {},
     "output_type": "execute_result"
    },
    {
     "data": {
      "image/png": "[encoded data removed]",
      "text/plain": [
       "<Figure size 432x288 with 1 Axes>"
      ]
     },
     "metadata": {
      "needs_background": "light"
     },
     "output_type": "display_data"
    }
   ],
   "source": [
    "sns.countplot(df['Gender'])"
   ]
  },
  {
   "cell_type": "markdown",
   "id": "fcfce701",
   "metadata": {},
   "source": [
    "# Bi- Variate Analysis"
   ]
  },
  {
   "cell_type": "code",
   "execution_count": 10,
   "id": "8ff38759",
   "metadata": {},
   "outputs": [
    {
     "data": {
      "text/plain": [
       "<AxesSubplot:xlabel='Annual Income (k$)', ylabel='Spending Score (1-100)'>"
      ]
     },
     "execution_count": 10,
     "metadata": {},
     "output_type": "execute_result"
    },
    {
     "data": {
      "image/png": "[encoded data removed]",
      "text/plain": [
       "<Figure size 432x288 with 1 Axes>"
      ]
     },
     "metadata": {
      "needs_background": "light"
     },
     "output_type": "display_data"
    }
   ],
   "source": [
    "sns.stripplot(x=df['Annual Income (k$)'],y=df['Spending Score (1-100)'])"
   ]
  },
  {
   "cell_type": "code",
   "execution_count": 11,
   "id": "4c6962f5",
   "metadata": {},
   "outputs": [
    {
     "data": {
      "text/plain": [
       "<AxesSubplot:xlabel='Annual Income (k$)', ylabel='Age'>"
      ]
     },
     "execution_count": 11,
     "metadata": {},
     "output_type": "execute_result"
    },
    {
     "data": {
      "image/png": "[encoded data removed]",
      "text/plain": [
       "<Figure size 432x288 with 1 Axes>"
      ]
     },
     "metadata": {
      "needs_background": "light"
     },
     "output_type": "display_data"
    }
   ],
   "source": [
    "sns.stripplot(x=df['Annual Income (k$)'],y=df['Age'])"
   ]
  },
  {
   "cell_type": "markdown",
   "id": "aa739e6a",
   "metadata": {},
   "source": [
    "# Multivariate Analysis"
   ]
  },
  {
   "cell_type": "code",
   "execution_count": 13,
   "id": "705855f7",
   "metadata": {},
   "outputs": [
    {
     "data": {
      "text/plain": [
       "<seaborn.axisgrid.PairGrid at 0x1b1c68a9a90>"
      ]
     },
     "execution_count": 13,
     "metadata": {},
     "output_type": "execute_result"
    },
    {
     "data": {
      "image/png": "[encoded data removed]",
      "text/plain": [
       "<Figure size 720x720 with 20 Axes>"
      ]
     },
     "metadata": {
      "needs_background": "light"
     },
     "output_type": "display_data"
    }
   ],
   "source": [
    "sns.pairplot(df)"
   ]
  },
  {
   "cell_type": "markdown",
   "id": "c67a1438",
   "metadata": {},
   "source": [
    "# Perform descriptive statistics on the dataset"
   ]
  },
  {
   "cell_type": "code",
   "execution_count": 15,
   "id": "50e87554",
   "metadata": {},
   "outputs": [
    {
     "data": {
      "text/plain": [
       "(200, 5)"
      ]
     },
     "execution_count": 15,
     "metadata": {},
     "output_type": "execute_result"
    }
   ],
   "source": [
    "df.shape"
   ]
  },
  {
   "cell_type": "code",
   "execution_count": 16,
   "id": "0d56d46f",
   "metadata": {},
   "outputs": [
    {
     "name": "stdout",
     "output_type": "stream",
     "text": [
      "<class 'pandas.core.frame.DataFrame'>\n",
      "RangeIndex: 200 entries, 0 to 199\n",
      "Data columns (total 5 columns):\n",
      " #   Column                  Non-Null Count  Dtype \n",
      "---  ------                  --------------  ----- \n",
      " 0   CustomerID              200 non-null    int64 \n",
      " 1   Gender                  200 non-null    object\n",
      " 2   Age                     200 non-null    int64 \n",
      " 3   Annual Income (k$)      200 non-null    int64 \n",
      " 4   Spending Score (1-100)  200 non-null    int64 \n",
      "dtypes: int64(4), object(1)\n",
      "memory usage: 7.9+ KB\n"
     ]
    }
   ],
   "source": [
    "df.info()"
   ]
  },
  {
   "cell_type": "code",
   "execution_count": 17,
   "id": "dad71fe7",
   "metadata": {},
   "outputs": [
    {
     "data": {
      "text/plain": [
       "CustomerID                0\n",
       "Gender                    0\n",
       "Age                       0\n",
       "Annual Income (k$)        0\n",
       "Spending Score (1-100)    0\n",
       "dtype: int64"
      ]
     },
     "execution_count": 17,
     "metadata": {},
     "output_type": "execute_result"
    }
   ],
   "source": [
    "df.isnull().sum()"
   ]
  },
  {
   "cell_type": "code",
   "execution_count": 18,
   "id": "c666ea53",
   "metadata": {},
   "outputs": [
    {
     "data": {
      "text/html": [
       "<div>\n",
       "<style scoped>\n",
       "    .dataframe tbody tr th:only-of-type {\n",
       "        vertical-align: middle;\n",
       "    }\n",
       "\n",
       "    .dataframe tbody tr th {\n",
       "        vertical-align: top;\n",
       "    }\n",
       "\n",
       "    .dataframe thead th {\n",
       "        text-align: right;\n",
       "    }\n",
       "</style>\n",
       "<table border=\"1\" class=\"dataframe\">\n",
       "  <thead>\n",
       "    <tr style=\"text-align: right;\">\n",
       "      <th></th>\n",
       "      <th>CustomerID</th>\n",
       "      <th>Age</th>\n",
       "      <th>Annual Income (k$)</th>\n",
       "      <th>Spending Score (1-100)</th>\n",
       "    </tr>\n",
       "  </thead>\n",
       "  <tbody>\n",
       "    <tr>\n",
       "      <th>count</th>\n",
       "      <td>200.000000</td>\n",
       "      <td>200.000000</td>\n",
       "      <td>200.000000</td>\n",
       "      <td>200.000000</td>\n",
       "    </tr>\n",
       "    <tr>\n",
       "      <th>mean</th>\n",
       "      <td>100.500000</td>\n",
       "      <td>38.850000</td>\n",
       "      <td>60.560000</td>\n",
       "      <td>50.200000</td>\n",
       "    </tr>\n",
       "    <tr>\n",
       "      <th>std</th>\n",
       "      <td>57.879185</td>\n",
       "      <td>13.969007</td>\n",
       "      <td>26.264721</td>\n",
       "      <td>25.823522</td>\n",
       "    </tr>\n",
       "    <tr>\n",
       "      <th>min</th>\n",
       "      <td>1.000000</td>\n",
       "      <td>18.000000</td>\n",
       "      <td>15.000000</td>\n",
       "      <td>1.000000</td>\n",
       "    </tr>\n",
       "    <tr>\n",
       "      <th>25%</th>\n",
       "      <td>50.750000</td>\n",
       "      <td>28.750000</td>\n",
       "      <td>41.500000</td>\n",
       "      <td>34.750000</td>\n",
       "    </tr>\n",
       "    <tr>\n",
       "      <th>50%</th>\n",
       "      <td>100.500000</td>\n",
       "      <td>36.000000</td>\n",
       "      <td>61.500000</td>\n",
       "      <td>50.000000</td>\n",
       "    </tr>\n",
       "    <tr>\n",
       "      <th>75%</th>\n",
       "      <td>150.250000</td>\n",
       "      <td>49.000000</td>\n",
       "      <td>78.000000</td>\n",
       "      <td>73.000000</td>\n",
       "    </tr>\n",
       "    <tr>\n",
       "      <th>max</th>\n",
       "      <td>200.000000</td>\n",
       "      <td>70.000000</td>\n",
       "      <td>137.000000</td>\n",
       "      <td>99.000000</td>\n",
       "    </tr>\n",
       "  </tbody>\n",
       "</table>\n",
       "</div>"
      ],
      "text/plain": [
       "       CustomerID         Age  Annual Income (k$)  Spending Score (1-100)\n",
       "count  200.000000  200.000000          200.000000              200.000000\n",
       "mean   100.500000   38.850000           60.560000               50.200000\n",
       "std     57.879185   13.969007           26.264721               25.823522\n",
       "min      1.000000   18.000000           15.000000                1.000000\n",
       "25%     50.750000   28.750000           41.500000               34.750000\n",
       "50%    100.500000   36.000000           61.500000               50.000000\n",
       "75%    150.250000   49.000000           78.000000               73.000000\n",
       "max    200.000000   70.000000          137.000000               99.000000"
      ]
     },
     "execution_count": 18,
     "metadata": {},
     "output_type": "execute_result"
    }
   ],
   "source": [
    "df.describe()"
   ]
  },
  {
   "cell_type": "code",
   "execution_count": 19,
   "id": "763ca17e",
   "metadata": {},
   "outputs": [
    {
     "data": {
      "text/plain": [
       "38.85"
      ]
     },
     "execution_count": 19,
     "metadata": {},
     "output_type": "execute_result"
    }
   ],
   "source": [
    "df['Age'].mean()"
   ]
  },
  {
   "cell_type": "code",
   "execution_count": 20,
   "id": "fe70c198",
   "metadata": {},
   "outputs": [
    {
     "name": "stderr",
     "output_type": "stream",
     "text": [
      "C:\\Users\\Nazzer\\AppData\\Local\\Temp/ipykernel_5044/3698961737.py:1: FutureWarning: Dropping of nuisance columns in DataFrame reductions (with 'numeric_only=None') is deprecated; in a future version this will raise TypeError.  Select only valid columns before calling the reduction.\n",
      "  df.mean()\n"
     ]
    },
    {
     "data": {
      "text/plain": [
       "CustomerID                100.50\n",
       "Age                        38.85\n",
       "Annual Income (k$)         60.56\n",
       "Spending Score (1-100)     50.20\n",
       "dtype: float64"
      ]
     },
     "execution_count": 20,
     "metadata": {},
     "output_type": "execute_result"
    }
   ],
   "source": [
    "df.mean()"
   ]
  },
  {
   "cell_type": "code",
   "execution_count": 21,
   "id": "a6ac66e5",
   "metadata": {},
   "outputs": [
    {
     "data": {
      "text/html": [
       "<div>\n",
       "<style scoped>\n",
       "    .dataframe tbody tr th:only-of-type {\n",
       "        vertical-align: middle;\n",
       "    }\n",
       "\n",
       "    .dataframe tbody tr th {\n",
       "        vertical-align: top;\n",
       "    }\n",
       "\n",
       "    .dataframe thead th {\n",
       "        text-align: right;\n",
       "    }\n",
       "</style>\n",
       "<table border=\"1\" class=\"dataframe\">\n",
       "  <thead>\n",
       "    <tr style=\"text-align: right;\">\n",
       "      <th></th>\n",
       "      <th>CustomerID</th>\n",
       "      <th>Gender</th>\n",
       "      <th>Age</th>\n",
       "      <th>Annual Income (k$)</th>\n",
       "      <th>Spending Score (1-100)</th>\n",
       "    </tr>\n",
       "  </thead>\n",
       "  <tbody>\n",
       "    <tr>\n",
       "      <th>0</th>\n",
       "      <td>1</td>\n",
       "      <td>Female</td>\n",
       "      <td>32.0</td>\n",
       "      <td>54.0</td>\n",
       "      <td>42.0</td>\n",
       "    </tr>\n",
       "    <tr>\n",
       "      <th>1</th>\n",
       "      <td>2</td>\n",
       "      <td>NaN</td>\n",
       "      <td>NaN</td>\n",
       "      <td>78.0</td>\n",
       "      <td>NaN</td>\n",
       "    </tr>\n",
       "    <tr>\n",
       "      <th>2</th>\n",
       "      <td>3</td>\n",
       "      <td>NaN</td>\n",
       "      <td>NaN</td>\n",
       "      <td>NaN</td>\n",
       "      <td>NaN</td>\n",
       "    </tr>\n",
       "    <tr>\n",
       "      <th>3</th>\n",
       "      <td>4</td>\n",
       "      <td>NaN</td>\n",
       "      <td>NaN</td>\n",
       "      <td>NaN</td>\n",
       "      <td>NaN</td>\n",
       "    </tr>\n",
       "    <tr>\n",
       "      <th>4</th>\n",
       "      <td>5</td>\n",
       "      <td>NaN</td>\n",
       "      <td>NaN</td>\n",
       "      <td>NaN</td>\n",
       "      <td>NaN</td>\n",
       "    </tr>\n",
       "    <tr>\n",
       "      <th>...</th>\n",
       "      <td>...</td>\n",
       "      <td>...</td>\n",
       "      <td>...</td>\n",
       "      <td>...</td>\n",
       "      <td>...</td>\n",
       "    </tr>\n",
       "    <tr>\n",
       "      <th>195</th>\n",
       "      <td>196</td>\n",
       "      <td>NaN</td>\n",
       "      <td>NaN</td>\n",
       "      <td>NaN</td>\n",
       "      <td>NaN</td>\n",
       "    </tr>\n",
       "    <tr>\n",
       "      <th>196</th>\n",
       "      <td>197</td>\n",
       "      <td>NaN</td>\n",
       "      <td>NaN</td>\n",
       "      <td>NaN</td>\n",
       "      <td>NaN</td>\n",
       "    </tr>\n",
       "    <tr>\n",
       "      <th>197</th>\n",
       "      <td>198</td>\n",
       "      <td>NaN</td>\n",
       "      <td>NaN</td>\n",
       "      <td>NaN</td>\n",
       "      <td>NaN</td>\n",
       "    </tr>\n",
       "    <tr>\n",
       "      <th>198</th>\n",
       "      <td>199</td>\n",
       "      <td>NaN</td>\n",
       "      <td>NaN</td>\n",
       "      <td>NaN</td>\n",
       "      <td>NaN</td>\n",
       "    </tr>\n",
       "    <tr>\n",
       "      <th>199</th>\n",
       "      <td>200</td>\n",
       "      <td>NaN</td>\n",
       "      <td>NaN</td>\n",
       "      <td>NaN</td>\n",
       "      <td>NaN</td>\n",
       "    </tr>\n",
       "  </tbody>\n",
       "</table>\n",
       "<p>200 rows × 5 columns</p>\n",
       "</div>"
      ],
      "text/plain": [
       "     CustomerID  Gender   Age  Annual Income (k$)  Spending Score (1-100)\n",
       "0             1  Female  32.0                54.0                    42.0\n",
       "1             2     NaN   NaN                78.0                     NaN\n",
       "2             3     NaN   NaN                 NaN                     NaN\n",
       "3             4     NaN   NaN                 NaN                     NaN\n",
       "4             5     NaN   NaN                 NaN                     NaN\n",
       "..          ...     ...   ...                 ...                     ...\n",
       "195         196     NaN   NaN                 NaN                     NaN\n",
       "196         197     NaN   NaN                 NaN                     NaN\n",
       "197         198     NaN   NaN                 NaN                     NaN\n",
       "198         199     NaN   NaN                 NaN                     NaN\n",
       "199         200     NaN   NaN                 NaN                     NaN\n",
       "\n",
       "[200 rows x 5 columns]"
      ]
     },
     "execution_count": 21,
     "metadata": {},
     "output_type": "execute_result"
    }
   ],
   "source": [
    "df.mode()"
   ]
  },
  {
   "cell_type": "code",
   "execution_count": 22,
   "id": "75a671d4",
   "metadata": {},
   "outputs": [
    {
     "name": "stderr",
     "output_type": "stream",
     "text": [
      "C:\\Users\\Nazzer\\AppData\\Local\\Temp/ipykernel_5044/530051474.py:1: FutureWarning: Dropping of nuisance columns in DataFrame reductions (with 'numeric_only=None') is deprecated; in a future version this will raise TypeError.  Select only valid columns before calling the reduction.\n",
      "  df.median()\n"
     ]
    },
    {
     "data": {
      "text/plain": [
       "CustomerID                100.5\n",
       "Age                        36.0\n",
       "Annual Income (k$)         61.5\n",
       "Spending Score (1-100)     50.0\n",
       "dtype: float64"
      ]
     },
     "execution_count": 22,
     "metadata": {},
     "output_type": "execute_result"
    }
   ],
   "source": [
    "df.median()"
   ]
  },
  {
   "cell_type": "code",
   "execution_count": 23,
   "id": "a8792fda",
   "metadata": {},
   "outputs": [
    {
     "data": {
      "text/plain": [
       "Female    112\n",
       "Male       88\n",
       "Name: Gender, dtype: int64"
      ]
     },
     "execution_count": 23,
     "metadata": {},
     "output_type": "execute_result"
    }
   ],
   "source": [
    "df['Gender'].value_counts()"
   ]
  },
  {
   "cell_type": "markdown",
   "id": "716e5525",
   "metadata": {},
   "source": [
    "# Check for Missing values and deal with them"
   ]
  },
  {
   "cell_type": "code",
   "execution_count": 24,
   "id": "eaff6d1a",
   "metadata": {},
   "outputs": [
    {
     "data": {
      "text/plain": [
       "CustomerID                0\n",
       "Gender                    0\n",
       "Age                       0\n",
       "Annual Income (k$)        0\n",
       "Spending Score (1-100)    0\n",
       "dtype: int64"
      ]
     },
     "execution_count": 24,
     "metadata": {},
     "output_type": "execute_result"
    }
   ],
   "source": [
    "df.isna().sum()"
   ]
  },
  {
   "cell_type": "markdown",
   "id": "0549885c",
   "metadata": {},
   "source": [
    "# Find the outliers and replace them outliers"
   ]
  },
  {
   "cell_type": "code",
   "execution_count": 25,
   "id": "62bd8032",
   "metadata": {},
   "outputs": [
    {
     "name": "stderr",
     "output_type": "stream",
     "text": [
      "C:\\Users\\Nazzer\\anaconda3\\lib\\site-packages\\seaborn\\_decorators.py:36: FutureWarning: Pass the following variable as a keyword arg: x. From version 0.12, the only valid positional argument will be `data`, and passing other arguments without an explicit keyword will result in an error or misinterpretation.\n",
      "  warnings.warn(\n"
     ]
    },
    {
     "data": {
      "text/plain": [
       "<AxesSubplot:xlabel='Spending Score (1-100)'>"
      ]
     },
     "execution_count": 25,
     "metadata": {},
     "output_type": "execute_result"
    },
    {
     "data": {
      "image/png": "[encoded data removed]",
      "text/plain": [
       "<Figure size 432x288 with 1 Axes>"
      ]
     },
     "metadata": {
      "needs_background": "light"
     },
     "output_type": "display_data"
    }
   ],
   "source": [
    "sns.boxplot(df['Spending Score (1-100)'])"
   ]
  },
  {
   "cell_type": "code",
   "execution_count": 26,
   "id": "f7d18757",
   "metadata": {},
   "outputs": [],
   "source": [
    "Q1 = df['Spending Score (1-100)'].quantile(0.25)\n",
    "Q3 = df['Spending Score (1-100)'].quantile(0.75)\n",
    "IQR = Q3 - Q1\n",
    "whisker_width = 1.5\n",
    "lower_whisker = Q1 -(whisker_width*IQR)\n",
    "upper_whisker = Q3 +(whisker_width*IQR)\n",
    "df['Spending Score (1-100)']=np.where(df['Spending Score (1-100)']>upper_whisker,upper_whisker,np.where(df['Spending Score (1-100)']<lower_whisker,lower_whisker,df['Spending Score (1-100)']))"
   ]
  },
  {
   "cell_type": "code",
   "execution_count": 27,
   "id": "a5f2ce89",
   "metadata": {},
   "outputs": [
    {
     "name": "stderr",
     "output_type": "stream",
     "text": [
      "C:\\Users\\Nazzer\\anaconda3\\lib\\site-packages\\seaborn\\_decorators.py:36: FutureWarning: Pass the following variable as a keyword arg: x. From version 0.12, the only valid positional argument will be `data`, and passing other arguments without an explicit keyword will result in an error or misinterpretation.\n",
      "  warnings.warn(\n"
     ]
    },
    {
     "data": {
      "text/plain": [
       "<AxesSubplot:xlabel='Spending Score (1-100)'>"
      ]
     },
     "execution_count": 27,
     "metadata": {},
     "output_type": "execute_result"
    },
    {
     "data": {
      "image/png": "[encoded data removed]",
      "text/plain": [
       "<Figure size 432x288 with 1 Axes>"
      ]
     },
     "metadata": {
      "needs_background": "light"
     },
     "output_type": "display_data"
    }
   ],
   "source": [
    "sns.boxplot(df['Spending Score (1-100)'])"
   ]
  },
  {
   "cell_type": "markdown",
   "id": "a7e24d85",
   "metadata": {},
   "source": [
    "# Check for Categorical columns and perform encoding"
   ]
  },
  {
   "cell_type": "code",
   "execution_count": 28,
   "id": "bfdae7db",
   "metadata": {},
   "outputs": [
    {
     "name": "stdout",
     "output_type": "stream",
     "text": [
      "Number of numerical variables:  4\n",
      "Number of categorical variables:  1\n"
     ]
    }
   ],
   "source": [
    "numeric_data = df.select_dtypes(include=[np.number]) \n",
    "categorical_data = df.select_dtypes(exclude=[np.number]) \n",
    "print(\"Number of numerical variables: \", numeric_data.shape[1]) \n",
    "print(\"Number of categorical variables: \", categorical_data.shape[1])"
   ]
  },
  {
   "cell_type": "code",
   "execution_count": 29,
   "id": "2390d090",
   "metadata": {},
   "outputs": [
    {
     "name": "stdout",
     "output_type": "stream",
     "text": [
      "Number of categorical variables:  1\n"
     ]
    },
    {
     "data": {
      "text/plain": [
       "['Gender']"
      ]
     },
     "execution_count": 29,
     "metadata": {},
     "output_type": "execute_result"
    }
   ],
   "source": [
    "print(\"Number of categorical variables: \", categorical_data.shape[1]) \n",
    "Categorical_variables = list(categorical_data.columns)\n",
    "Categorical_variables"
   ]
  },
  {
   "cell_type": "code",
   "execution_count": 30,
   "id": "226968cb",
   "metadata": {},
   "outputs": [
    {
     "data": {
      "text/plain": [
       "Female    112\n",
       "Male       88\n",
       "Name: Gender, dtype: int64"
      ]
     },
     "execution_count": 30,
     "metadata": {},
     "output_type": "execute_result"
    }
   ],
   "source": [
    "df['Gender'].value_counts()"
   ]
  },
  {
   "cell_type": "code",
   "execution_count": 31,
   "id": "f5e12190",
   "metadata": {},
   "outputs": [],
   "source": [
    "from sklearn.preprocessing import LabelEncoder\n",
    "le = LabelEncoder()\n",
    "label = le.fit_transform(df['Gender'])\n",
    "df[\"Gender\"] = label"
   ]
  },
  {
   "cell_type": "code",
   "execution_count": 32,
   "id": "226d75ab",
   "metadata": {},
   "outputs": [
    {
     "data": {
      "text/plain": [
       "0    112\n",
       "1     88\n",
       "Name: Gender, dtype: int64"
      ]
     },
     "execution_count": 32,
     "metadata": {},
     "output_type": "execute_result"
    }
   ],
   "source": [
    "df['Gender'].value_counts()"
   ]
  },
  {
   "cell_type": "markdown",
   "id": "25821dcc",
   "metadata": {},
   "source": [
    "# Split the data into dependent and independent variables"
   ]
  },
  {
   "cell_type": "code",
   "execution_count": 33,
   "id": "621abe6d",
   "metadata": {},
   "outputs": [],
   "source": [
    "X = df.drop(\"Spending Score (1-100)\",axis=1)\n",
    "Y = df['Spending Score (1-100)']"
   ]
  },
  {
   "cell_type": "code",
   "execution_count": 34,
   "id": "3c662778",
   "metadata": {},
   "outputs": [
    {
     "data": {
      "text/html": [
       "<div>\n",
       "<style scoped>\n",
       "    .dataframe tbody tr th:only-of-type {\n",
       "        vertical-align: middle;\n",
       "    }\n",
       "\n",
       "    .dataframe tbody tr th {\n",
       "        vertical-align: top;\n",
       "    }\n",
       "\n",
       "    .dataframe thead th {\n",
       "        text-align: right;\n",
       "    }\n",
       "</style>\n",
       "<table border=\"1\" class=\"dataframe\">\n",
       "  <thead>\n",
       "    <tr style=\"text-align: right;\">\n",
       "      <th></th>\n",
       "      <th>CustomerID</th>\n",
       "      <th>Gender</th>\n",
       "      <th>Age</th>\n",
       "      <th>Annual Income (k$)</th>\n",
       "    </tr>\n",
       "  </thead>\n",
       "  <tbody>\n",
       "    <tr>\n",
       "      <th>0</th>\n",
       "      <td>1</td>\n",
       "      <td>1</td>\n",
       "      <td>19</td>\n",
       "      <td>15</td>\n",
       "    </tr>\n",
       "    <tr>\n",
       "      <th>1</th>\n",
       "      <td>2</td>\n",
       "      <td>1</td>\n",
       "      <td>21</td>\n",
       "      <td>15</td>\n",
       "    </tr>\n",
       "    <tr>\n",
       "      <th>2</th>\n",
       "      <td>3</td>\n",
       "      <td>0</td>\n",
       "      <td>20</td>\n",
       "      <td>16</td>\n",
       "    </tr>\n",
       "    <tr>\n",
       "      <th>3</th>\n",
       "      <td>4</td>\n",
       "      <td>0</td>\n",
       "      <td>23</td>\n",
       "      <td>16</td>\n",
       "    </tr>\n",
       "    <tr>\n",
       "      <th>4</th>\n",
       "      <td>5</td>\n",
       "      <td>0</td>\n",
       "      <td>31</td>\n",
       "      <td>17</td>\n",
       "    </tr>\n",
       "  </tbody>\n",
       "</table>\n",
       "</div>"
      ],
      "text/plain": [
       "   CustomerID  Gender  Age  Annual Income (k$)\n",
       "0           1       1   19                  15\n",
       "1           2       1   21                  15\n",
       "2           3       0   20                  16\n",
       "3           4       0   23                  16\n",
       "4           5       0   31                  17"
      ]
     },
     "execution_count": 34,
     "metadata": {},
     "output_type": "execute_result"
    }
   ],
   "source": [
    "X[:5]"
   ]
  },
  {
   "cell_type": "code",
   "execution_count": 35,
   "id": "d226b025",
   "metadata": {},
   "outputs": [
    {
     "data": {
      "text/plain": [
       "0    39.0\n",
       "1    81.0\n",
       "2     6.0\n",
       "3    77.0\n",
       "4    40.0\n",
       "Name: Spending Score (1-100), dtype: float64"
      ]
     },
     "execution_count": 35,
     "metadata": {},
     "output_type": "execute_result"
    }
   ],
   "source": [
    "Y[:5]"
   ]
  },
  {
   "cell_type": "markdown",
   "id": "5310b6e8",
   "metadata": {},
   "source": [
    "# Scale independent variables"
   ]
  },
  {
   "cell_type": "code",
   "execution_count": 37,
   "id": "1efa7adc",
   "metadata": {},
   "outputs": [
    {
     "data": {
      "text/html": [
       "<div>\n",
       "<style scoped>\n",
       "    .dataframe tbody tr th:only-of-type {\n",
       "        vertical-align: middle;\n",
       "    }\n",
       "\n",
       "    .dataframe tbody tr th {\n",
       "        vertical-align: top;\n",
       "    }\n",
       "\n",
       "    .dataframe thead th {\n",
       "        text-align: right;\n",
       "    }\n",
       "</style>\n",
       "<table border=\"1\" class=\"dataframe\">\n",
       "  <thead>\n",
       "    <tr style=\"text-align: right;\">\n",
       "      <th></th>\n",
       "      <th>CustomerID</th>\n",
       "      <th>Gender</th>\n",
       "      <th>Age</th>\n",
       "      <th>Annual Income (k$)</th>\n",
       "    </tr>\n",
       "  </thead>\n",
       "  <tbody>\n",
       "    <tr>\n",
       "      <th>0</th>\n",
       "      <td>1</td>\n",
       "      <td>1</td>\n",
       "      <td>19</td>\n",
       "      <td>15</td>\n",
       "    </tr>\n",
       "    <tr>\n",
       "      <th>1</th>\n",
       "      <td>2</td>\n",
       "      <td>1</td>\n",
       "      <td>21</td>\n",
       "      <td>15</td>\n",
       "    </tr>\n",
       "    <tr>\n",
       "      <th>2</th>\n",
       "      <td>3</td>\n",
       "      <td>0</td>\n",
       "      <td>20</td>\n",
       "      <td>16</td>\n",
       "    </tr>\n",
       "    <tr>\n",
       "      <th>3</th>\n",
       "      <td>4</td>\n",
       "      <td>0</td>\n",
       "      <td>23</td>\n",
       "      <td>16</td>\n",
       "    </tr>\n",
       "    <tr>\n",
       "      <th>4</th>\n",
       "      <td>5</td>\n",
       "      <td>0</td>\n",
       "      <td>31</td>\n",
       "      <td>17</td>\n",
       "    </tr>\n",
       "    <tr>\n",
       "      <th>...</th>\n",
       "      <td>...</td>\n",
       "      <td>...</td>\n",
       "      <td>...</td>\n",
       "      <td>...</td>\n",
       "    </tr>\n",
       "    <tr>\n",
       "      <th>195</th>\n",
       "      <td>196</td>\n",
       "      <td>0</td>\n",
       "      <td>35</td>\n",
       "      <td>120</td>\n",
       "    </tr>\n",
       "    <tr>\n",
       "      <th>196</th>\n",
       "      <td>197</td>\n",
       "      <td>0</td>\n",
       "      <td>45</td>\n",
       "      <td>126</td>\n",
       "    </tr>\n",
       "    <tr>\n",
       "      <th>197</th>\n",
       "      <td>198</td>\n",
       "      <td>1</td>\n",
       "      <td>32</td>\n",
       "      <td>126</td>\n",
       "    </tr>\n",
       "    <tr>\n",
       "      <th>198</th>\n",
       "      <td>199</td>\n",
       "      <td>1</td>\n",
       "      <td>32</td>\n",
       "      <td>137</td>\n",
       "    </tr>\n",
       "    <tr>\n",
       "      <th>199</th>\n",
       "      <td>200</td>\n",
       "      <td>1</td>\n",
       "      <td>30</td>\n",
       "      <td>137</td>\n",
       "    </tr>\n",
       "  </tbody>\n",
       "</table>\n",
       "<p>200 rows × 4 columns</p>\n",
       "</div>"
      ],
      "text/plain": [
       "     CustomerID  Gender  Age  Annual Income (k$)\n",
       "0             1       1   19                  15\n",
       "1             2       1   21                  15\n",
       "2             3       0   20                  16\n",
       "3             4       0   23                  16\n",
       "4             5       0   31                  17\n",
       "..          ...     ...  ...                 ...\n",
       "195         196       0   35                 120\n",
       "196         197       0   45                 126\n",
       "197         198       1   32                 126\n",
       "198         199       1   32                 137\n",
       "199         200       1   30                 137\n",
       "\n",
       "[200 rows x 4 columns]"
      ]
     },
     "execution_count": 37,
     "metadata": {},
     "output_type": "execute_result"
    }
   ],
   "source": [
    "X"
   ]
  },
  {
   "cell_type": "code",
   "execution_count": 38,
   "id": "5f29cdca",
   "metadata": {},
   "outputs": [
    {
     "name": "stdout",
     "output_type": "stream",
     "text": [
      "[[-1.7234121   1.12815215 -1.42456879 -1.73899919]\n",
      " [-1.70609137  1.12815215 -1.28103541 -1.73899919]\n",
      " [-1.68877065 -0.88640526 -1.3528021  -1.70082976]\n",
      " [-1.67144992 -0.88640526 -1.13750203 -1.70082976]\n",
      " [-1.6541292  -0.88640526 -0.56336851 -1.66266033]\n",
      " [-1.63680847 -0.88640526 -1.20926872 -1.66266033]\n",
      " [-1.61948775 -0.88640526 -0.27630176 -1.62449091]\n",
      " [-1.60216702 -0.88640526 -1.13750203 -1.62449091]\n",
      " [-1.5848463   1.12815215  1.80493225 -1.58632148]\n",
      " [-1.56752558 -0.88640526 -0.6351352  -1.58632148]\n",
      " [-1.55020485  1.12815215  2.02023231 -1.58632148]\n",
      " [-1.53288413 -0.88640526 -0.27630176 -1.58632148]\n",
      " [-1.5155634  -0.88640526  1.37433211 -1.54815205]\n",
      " [-1.49824268 -0.88640526 -1.06573534 -1.54815205]\n",
      " [-1.48092195  1.12815215 -0.13276838 -1.54815205]\n",
      " [-1.46360123  1.12815215 -1.20926872 -1.54815205]\n",
      " [-1.4462805  -0.88640526 -0.27630176 -1.50998262]\n",
      " [-1.42895978  1.12815215 -1.3528021  -1.50998262]\n",
      " [-1.41163905  1.12815215  0.94373197 -1.43364376]\n",
      " [-1.39431833 -0.88640526 -0.27630176 -1.43364376]\n",
      " [-1.3769976   1.12815215 -0.27630176 -1.39547433]\n",
      " [-1.35967688  1.12815215 -0.99396865 -1.39547433]\n",
      " [-1.34235616 -0.88640526  0.51313183 -1.3573049 ]\n",
      " [-1.32503543  1.12815215 -0.56336851 -1.3573049 ]\n",
      " [-1.30771471 -0.88640526  1.08726535 -1.24279661]\n",
      " [-1.29039398  1.12815215 -0.70690189 -1.24279661]\n",
      " [-1.27307326 -0.88640526  0.44136514 -1.24279661]\n",
      " [-1.25575253  1.12815215 -0.27630176 -1.24279661]\n",
      " [-1.23843181 -0.88640526  0.08253169 -1.20462718]\n",
      " [-1.22111108 -0.88640526 -1.13750203 -1.20462718]\n",
      " [-1.20379036  1.12815215  1.51786549 -1.16645776]\n",
      " [-1.18646963 -0.88640526 -1.28103541 -1.16645776]\n",
      " [-1.16914891  1.12815215  1.01549866 -1.05194947]\n",
      " [-1.15182818  1.12815215 -1.49633548 -1.05194947]\n",
      " [-1.13450746 -0.88640526  0.7284319  -1.05194947]\n",
      " [-1.11718674 -0.88640526 -1.28103541 -1.05194947]\n",
      " [-1.09986601 -0.88640526  0.22606507 -1.01378004]\n",
      " [-1.08254529 -0.88640526 -0.6351352  -1.01378004]\n",
      " [-1.06522456 -0.88640526 -0.20453507 -0.89927175]\n",
      " [-1.04790384 -0.88640526 -1.3528021  -0.89927175]\n",
      " [-1.03058311 -0.88640526  1.87669894 -0.86110232]\n",
      " [-1.01326239  1.12815215 -1.06573534 -0.86110232]\n",
      " [-0.99594166  1.12815215  0.65666521 -0.82293289]\n",
      " [-0.97862094 -0.88640526 -0.56336851 -0.82293289]\n",
      " [-0.96130021 -0.88640526  0.7284319  -0.82293289]\n",
      " [-0.94397949 -0.88640526 -1.06573534 -0.82293289]\n",
      " [-0.92665877 -0.88640526  0.80019859 -0.78476346]\n",
      " [-0.90933804 -0.88640526 -0.85043527 -0.78476346]\n",
      " [-0.89201732 -0.88640526 -0.70690189 -0.78476346]\n",
      " [-0.87469659 -0.88640526 -0.56336851 -0.78476346]\n",
      " [-0.85737587 -0.88640526  0.7284319  -0.70842461]\n",
      " [-0.84005514  1.12815215 -0.41983513 -0.70842461]\n",
      " [-0.82273442 -0.88640526 -0.56336851 -0.67025518]\n",
      " [-0.80541369  1.12815215  1.4460988  -0.67025518]\n",
      " [-0.78809297 -0.88640526  0.80019859 -0.67025518]\n",
      " [-0.77077224  1.12815215  0.58489852 -0.67025518]\n",
      " [-0.75345152 -0.88640526  0.87196528 -0.63208575]\n",
      " [-0.73613079  1.12815215  2.16376569 -0.63208575]\n",
      " [-0.71881007 -0.88640526 -0.85043527 -0.55574689]\n",
      " [-0.70148935  1.12815215  1.01549866 -0.55574689]\n",
      " [-0.68416862  1.12815215  2.23553238 -0.55574689]\n",
      " [-0.6668479   1.12815215 -1.42456879 -0.55574689]\n",
      " [-0.64952717 -0.88640526  2.02023231 -0.51757746]\n",
      " [-0.63220645 -0.88640526  1.08726535 -0.51757746]\n",
      " [-0.61488572  1.12815215  1.73316556 -0.47940803]\n",
      " [-0.597565    1.12815215 -1.49633548 -0.47940803]\n",
      " [-0.58024427 -0.88640526  0.29783176 -0.47940803]\n",
      " [-0.56292355 -0.88640526  2.091999   -0.47940803]\n",
      " [-0.54560282  1.12815215 -1.42456879 -0.47940803]\n",
      " [-0.5282821  -0.88640526 -0.49160182 -0.47940803]\n",
      " [-0.51096138  1.12815215  2.23553238 -0.4412386 ]\n",
      " [-0.49364065 -0.88640526  0.58489852 -0.4412386 ]\n",
      " [-0.47631993 -0.88640526  1.51786549 -0.40306917]\n",
      " [-0.4589992  -0.88640526  1.51786549 -0.40306917]\n",
      " [-0.44167848  1.12815215  1.4460988  -0.25039146]\n",
      " [-0.42435775  1.12815215 -0.92220196 -0.25039146]\n",
      " [-0.40703703 -0.88640526  0.44136514 -0.25039146]\n",
      " [-0.3897163   1.12815215  0.08253169 -0.25039146]\n",
      " [-0.37239558 -0.88640526 -1.13750203 -0.25039146]\n",
      " [-0.35507485 -0.88640526  0.7284319  -0.25039146]\n",
      " [-0.33775413  1.12815215  1.30256542 -0.25039146]\n",
      " [-0.3204334   1.12815215 -0.06100169 -0.25039146]\n",
      " [-0.30311268  1.12815215  2.02023231 -0.25039146]\n",
      " [-0.28579196 -0.88640526  0.51313183 -0.25039146]\n",
      " [-0.26847123 -0.88640526 -1.28103541 -0.25039146]\n",
      " [-0.25115051  1.12815215  0.65666521 -0.25039146]\n",
      " [-0.23382978 -0.88640526  1.15903204 -0.13588317]\n",
      " [-0.21650906 -0.88640526 -1.20926872 -0.13588317]\n",
      " [-0.19918833 -0.88640526 -0.34806844 -0.09771374]\n",
      " [-0.18186761 -0.88640526  0.80019859 -0.09771374]\n",
      " [-0.16454688 -0.88640526  2.091999   -0.05954431]\n",
      " [-0.14722616  1.12815215 -1.49633548 -0.05954431]\n",
      " [-0.12990543  1.12815215  0.65666521 -0.02137488]\n",
      " [-0.11258471 -0.88640526  0.08253169 -0.02137488]\n",
      " [-0.09526399 -0.88640526 -0.49160182 -0.02137488]\n",
      " [-0.07794326  1.12815215 -1.06573534 -0.02137488]\n",
      " [-0.06062254 -0.88640526  0.58489852 -0.02137488]\n",
      " [-0.04330181 -0.88640526 -0.85043527 -0.02137488]\n",
      " [-0.02598109  1.12815215  0.65666521  0.01679455]\n",
      " [-0.00866036  1.12815215 -1.3528021   0.01679455]\n",
      " [ 0.00866036 -0.88640526 -1.13750203  0.05496398]\n",
      " [ 0.02598109 -0.88640526  0.7284319   0.05496398]\n",
      " [ 0.04330181  1.12815215  2.02023231  0.05496398]\n",
      " [ 0.06062254  1.12815215 -0.92220196  0.05496398]\n",
      " [ 0.07794326  1.12815215  0.7284319   0.05496398]\n",
      " [ 0.09526399 -0.88640526 -1.28103541  0.05496398]\n",
      " [ 0.11258471 -0.88640526  1.94846562  0.09313341]\n",
      " [ 0.12990543  1.12815215  1.08726535  0.09313341]\n",
      " [ 0.14722616  1.12815215  2.091999    0.09313341]\n",
      " [ 0.16454688  1.12815215  1.94846562  0.09313341]\n",
      " [ 0.18186761  1.12815215  1.87669894  0.09313341]\n",
      " [ 0.19918833 -0.88640526 -1.42456879  0.09313341]\n",
      " [ 0.21650906 -0.88640526 -0.06100169  0.13130284]\n",
      " [ 0.23382978  1.12815215 -1.42456879  0.13130284]\n",
      " [ 0.25115051 -0.88640526 -1.49633548  0.16947227]\n",
      " [ 0.26847123 -0.88640526 -1.42456879  0.16947227]\n",
      " [ 0.28579196 -0.88640526  1.73316556  0.16947227]\n",
      " [ 0.30311268 -0.88640526  0.7284319   0.16947227]\n",
      " [ 0.3204334  -0.88640526  0.87196528  0.24581112]\n",
      " [ 0.33775413 -0.88640526  0.80019859  0.24581112]\n",
      " [ 0.35507485  1.12815215 -0.85043527  0.24581112]\n",
      " [ 0.37239558 -0.88640526 -0.06100169  0.24581112]\n",
      " [ 0.3897163  -0.88640526  0.08253169  0.32214998]\n",
      " [ 0.40703703  1.12815215  0.010765    0.32214998]\n",
      " [ 0.42435775 -0.88640526 -1.13750203  0.36031941]\n",
      " [ 0.44167848 -0.88640526 -0.56336851  0.36031941]\n",
      " [ 0.4589992   1.12815215  0.29783176  0.39848884]\n",
      " [ 0.47631993  1.12815215  0.08253169  0.39848884]\n",
      " [ 0.49364065  1.12815215  1.4460988   0.39848884]\n",
      " [ 0.51096138  1.12815215 -0.06100169  0.39848884]\n",
      " [ 0.5282821   1.12815215  0.58489852  0.39848884]\n",
      " [ 0.54560282  1.12815215  0.010765    0.39848884]\n",
      " [ 0.56292355 -0.88640526 -0.99396865  0.43665827]\n",
      " [ 0.58024427 -0.88640526 -0.56336851  0.43665827]\n",
      " [ 0.597565    1.12815215 -1.3528021   0.4748277 ]\n",
      " [ 0.61488572 -0.88640526 -0.70690189  0.4748277 ]\n",
      " [ 0.63220645 -0.88640526  0.36959845  0.4748277 ]\n",
      " [ 0.64952717  1.12815215 -0.49160182  0.4748277 ]\n",
      " [ 0.6668479   1.12815215 -1.42456879  0.51299713]\n",
      " [ 0.68416862 -0.88640526 -0.27630176  0.51299713]\n",
      " [ 0.70148935 -0.88640526  1.30256542  0.55116656]\n",
      " [ 0.71881007  1.12815215 -0.49160182  0.55116656]\n",
      " [ 0.73613079 -0.88640526 -0.77866858  0.58933599]\n",
      " [ 0.75345152 -0.88640526 -0.49160182  0.58933599]\n",
      " [ 0.77077224  1.12815215 -0.99396865  0.62750542]\n",
      " [ 0.78809297  1.12815215 -0.77866858  0.62750542]\n",
      " [ 0.80541369  1.12815215  0.65666521  0.62750542]\n",
      " [ 0.82273442 -0.88640526 -0.49160182  0.62750542]\n",
      " [ 0.84005514 -0.88640526 -0.34806844  0.66567484]\n",
      " [ 0.85737587  1.12815215 -0.34806844  0.66567484]\n",
      " [ 0.87469659  1.12815215  0.29783176  0.66567484]\n",
      " [ 0.89201732  1.12815215  0.010765    0.66567484]\n",
      " [ 0.90933804 -0.88640526  0.36959845  0.66567484]\n",
      " [ 0.92665877 -0.88640526 -0.06100169  0.66567484]\n",
      " [ 0.94397949 -0.88640526  0.58489852  0.66567484]\n",
      " [ 0.96130021 -0.88640526 -0.85043527  0.66567484]\n",
      " [ 0.97862094  1.12815215 -0.13276838  0.66567484]\n",
      " [ 0.99594166 -0.88640526 -0.6351352   0.66567484]\n",
      " [ 1.01326239  1.12815215 -0.34806844  0.66567484]\n",
      " [ 1.03058311 -0.88640526 -0.6351352   0.66567484]\n",
      " [ 1.04790384 -0.88640526  1.23079873  0.70384427]\n",
      " [ 1.06522456 -0.88640526 -0.70690189  0.70384427]\n",
      " [ 1.08254529  1.12815215 -1.42456879  0.78018313]\n",
      " [ 1.09986601 -0.88640526 -0.56336851  0.78018313]\n",
      " [ 1.11718674  1.12815215  0.80019859  0.93286085]\n",
      " [ 1.13450746 -0.88640526 -0.20453507  0.93286085]\n",
      " [ 1.15182818  1.12815215  0.22606507  0.97103028]\n",
      " [ 1.16914891 -0.88640526 -0.41983513  0.97103028]\n",
      " [ 1.18646963 -0.88640526 -0.20453507  1.00919971]\n",
      " [ 1.20379036  1.12815215 -0.49160182  1.00919971]\n",
      " [ 1.22111108  1.12815215  0.08253169  1.00919971]\n",
      " [ 1.23843181  1.12815215 -0.77866858  1.00919971]\n",
      " [ 1.25575253  1.12815215 -0.20453507  1.00919971]\n",
      " [ 1.27307326  1.12815215 -0.20453507  1.00919971]\n",
      " [ 1.29039398 -0.88640526  0.94373197  1.04736914]\n",
      " [ 1.30771471 -0.88640526 -0.6351352   1.04736914]\n",
      " [ 1.32503543  1.12815215  1.37433211  1.04736914]\n",
      " [ 1.34235616  1.12815215 -0.85043527  1.04736914]\n",
      " [ 1.35967688  1.12815215  1.4460988   1.23821628]\n",
      " [ 1.3769976   1.12815215 -0.27630176  1.23821628]\n",
      " [ 1.39431833 -0.88640526 -0.13276838  1.390894  ]\n",
      " [ 1.41163905 -0.88640526 -0.49160182  1.390894  ]\n",
      " [ 1.42895978  1.12815215  0.51313183  1.42906343]\n",
      " [ 1.4462805  -0.88640526 -0.70690189  1.42906343]\n",
      " [ 1.46360123 -0.88640526  0.15429838  1.46723286]\n",
      " [ 1.48092195  1.12815215 -0.6351352   1.46723286]\n",
      " [ 1.49824268 -0.88640526  1.08726535  1.54357172]\n",
      " [ 1.5155634   1.12815215 -0.77866858  1.54357172]\n",
      " [ 1.53288413 -0.88640526  0.15429838  1.61991057]\n",
      " [ 1.55020485 -0.88640526 -0.20453507  1.61991057]\n",
      " [ 1.56752558 -0.88640526 -0.34806844  1.61991057]\n",
      " [ 1.5848463  -0.88640526 -0.49160182  1.61991057]\n",
      " [ 1.60216702  1.12815215 -0.41983513  2.00160487]\n",
      " [ 1.61948775 -0.88640526 -0.06100169  2.00160487]\n",
      " [ 1.63680847 -0.88640526  0.58489852  2.26879087]\n",
      " [ 1.6541292  -0.88640526 -0.27630176  2.26879087]\n",
      " [ 1.67144992 -0.88640526  0.44136514  2.49780745]\n",
      " [ 1.68877065  1.12815215 -0.49160182  2.49780745]\n",
      " [ 1.70609137  1.12815215 -0.49160182  2.91767117]\n",
      " [ 1.7234121   1.12815215 -0.6351352   2.91767117]]\n"
     ]
    }
   ],
   "source": [
    "from sklearn.preprocessing import StandardScaler\n",
    "object= StandardScaler()\n",
    "scale = object.fit_transform(X) \n",
    "print(scale)"
   ]
  },
  {
   "cell_type": "code",
   "execution_count": 39,
   "id": "82220e18",
   "metadata": {},
   "outputs": [],
   "source": [
    "X_scaled  = pd.DataFrame(scale, columns = X.columns)"
   ]
  },
  {
   "cell_type": "code",
   "execution_count": 40,
   "id": "d754f94d",
   "metadata": {},
   "outputs": [
    {
     "data": {
      "text/html": [
       "<div>\n",
       "<style scoped>\n",
       "    .dataframe tbody tr th:only-of-type {\n",
       "        vertical-align: middle;\n",
       "    }\n",
       "\n",
       "    .dataframe tbody tr th {\n",
       "        vertical-align: top;\n",
       "    }\n",
       "\n",
       "    .dataframe thead th {\n",
       "        text-align: right;\n",
       "    }\n",
       "</style>\n",
       "<table border=\"1\" class=\"dataframe\">\n",
       "  <thead>\n",
       "    <tr style=\"text-align: right;\">\n",
       "      <th></th>\n",
       "      <th>CustomerID</th>\n",
       "      <th>Gender</th>\n",
       "      <th>Age</th>\n",
       "      <th>Annual Income (k$)</th>\n",
       "    </tr>\n",
       "  </thead>\n",
       "  <tbody>\n",
       "    <tr>\n",
       "      <th>0</th>\n",
       "      <td>-1.723412</td>\n",
       "      <td>1.128152</td>\n",
       "      <td>-1.424569</td>\n",
       "      <td>-1.738999</td>\n",
       "    </tr>\n",
       "    <tr>\n",
       "      <th>1</th>\n",
       "      <td>-1.706091</td>\n",
       "      <td>1.128152</td>\n",
       "      <td>-1.281035</td>\n",
       "      <td>-1.738999</td>\n",
       "    </tr>\n",
       "    <tr>\n",
       "      <th>2</th>\n",
       "      <td>-1.688771</td>\n",
       "      <td>-0.886405</td>\n",
       "      <td>-1.352802</td>\n",
       "      <td>-1.700830</td>\n",
       "    </tr>\n",
       "    <tr>\n",
       "      <th>3</th>\n",
       "      <td>-1.671450</td>\n",
       "      <td>-0.886405</td>\n",
       "      <td>-1.137502</td>\n",
       "      <td>-1.700830</td>\n",
       "    </tr>\n",
       "    <tr>\n",
       "      <th>4</th>\n",
       "      <td>-1.654129</td>\n",
       "      <td>-0.886405</td>\n",
       "      <td>-0.563369</td>\n",
       "      <td>-1.662660</td>\n",
       "    </tr>\n",
       "    <tr>\n",
       "      <th>...</th>\n",
       "      <td>...</td>\n",
       "      <td>...</td>\n",
       "      <td>...</td>\n",
       "      <td>...</td>\n",
       "    </tr>\n",
       "    <tr>\n",
       "      <th>195</th>\n",
       "      <td>1.654129</td>\n",
       "      <td>-0.886405</td>\n",
       "      <td>-0.276302</td>\n",
       "      <td>2.268791</td>\n",
       "    </tr>\n",
       "    <tr>\n",
       "      <th>196</th>\n",
       "      <td>1.671450</td>\n",
       "      <td>-0.886405</td>\n",
       "      <td>0.441365</td>\n",
       "      <td>2.497807</td>\n",
       "    </tr>\n",
       "    <tr>\n",
       "      <th>197</th>\n",
       "      <td>1.688771</td>\n",
       "      <td>1.128152</td>\n",
       "      <td>-0.491602</td>\n",
       "      <td>2.497807</td>\n",
       "    </tr>\n",
       "    <tr>\n",
       "      <th>198</th>\n",
       "      <td>1.706091</td>\n",
       "      <td>1.128152</td>\n",
       "      <td>-0.491602</td>\n",
       "      <td>2.917671</td>\n",
       "    </tr>\n",
       "    <tr>\n",
       "      <th>199</th>\n",
       "      <td>1.723412</td>\n",
       "      <td>1.128152</td>\n",
       "      <td>-0.635135</td>\n",
       "      <td>2.917671</td>\n",
       "    </tr>\n",
       "  </tbody>\n",
       "</table>\n",
       "<p>200 rows × 4 columns</p>\n",
       "</div>"
      ],
      "text/plain": [
       "     CustomerID    Gender       Age  Annual Income (k$)\n",
       "0     -1.723412  1.128152 -1.424569           -1.738999\n",
       "1     -1.706091  1.128152 -1.281035           -1.738999\n",
       "2     -1.688771 -0.886405 -1.352802           -1.700830\n",
       "3     -1.671450 -0.886405 -1.137502           -1.700830\n",
       "4     -1.654129 -0.886405 -0.563369           -1.662660\n",
       "..          ...       ...       ...                 ...\n",
       "195    1.654129 -0.886405 -0.276302            2.268791\n",
       "196    1.671450 -0.886405  0.441365            2.497807\n",
       "197    1.688771  1.128152 -0.491602            2.497807\n",
       "198    1.706091  1.128152 -0.491602            2.917671\n",
       "199    1.723412  1.128152 -0.635135            2.917671\n",
       "\n",
       "[200 rows x 4 columns]"
      ]
     },
     "execution_count": 40,
     "metadata": {},
     "output_type": "execute_result"
    }
   ],
   "source": [
    "X_scaled"
   ]
  },
  {
   "cell_type": "markdown",
   "id": "5b8549b1",
   "metadata": {},
   "source": [
    "# Split the data into training and testing"
   ]
  },
  {
   "cell_type": "code",
   "execution_count": 41,
   "id": "84e2ce41",
   "metadata": {},
   "outputs": [],
   "source": [
    "from sklearn.model_selection import train_test_split\n",
    "# split the dataset\n",
    "X_train, X_test, Y_train, Y_test = train_test_split(X_scaled, Y, test_size=0.20, random_state=0)"
   ]
  },
  {
   "cell_type": "code",
   "execution_count": 42,
   "id": "8268741e",
   "metadata": {},
   "outputs": [
    {
     "data": {
      "text/plain": [
       "(160, 4)"
      ]
     },
     "execution_count": 42,
     "metadata": {},
     "output_type": "execute_result"
    }
   ],
   "source": [
    "X_train.shape"
   ]
  },
  {
   "cell_type": "code",
   "execution_count": 44,
   "id": "2d475301",
   "metadata": {},
   "outputs": [
    {
     "data": {
      "text/plain": [
       "(40, 4)"
      ]
     },
     "execution_count": 44,
     "metadata": {},
     "output_type": "execute_result"
    }
   ],
   "source": [
    "X_test.shape"
   ]
  },
  {
   "cell_type": "code",
   "execution_count": 45,
   "id": "1a95f26c",
   "metadata": {},
   "outputs": [
    {
     "data": {
      "text/plain": [
       "(160,)"
      ]
     },
     "execution_count": 45,
     "metadata": {},
     "output_type": "execute_result"
    }
   ],
   "source": [
    "Y_train.shape"
   ]
  },
  {
   "cell_type": "code",
   "execution_count": 46,
   "id": "739b969b",
   "metadata": {},
   "outputs": [
    {
     "data": {
      "text/plain": [
       "(40,)"
      ]
     },
     "execution_count": 46,
     "metadata": {},
     "output_type": "execute_result"
    }
   ],
   "source": [
    "Y_test.shape"
   ]
  },
  {
   "cell_type": "markdown",
   "id": "ab8dcf43",
   "metadata": {},
   "source": [
    "# Build the Model"
   ]
  },
  {
   "cell_type": "code",
   "execution_count": 47,
   "id": "5e998e3a",
   "metadata": {},
   "outputs": [],
   "source": [
    "x = df.iloc[:, [3, 4]].values  "
   ]
  },
  {
   "cell_type": "code",
   "execution_count": 48,
   "id": "1a9dedbd",
   "metadata": {},
   "outputs": [
    {
     "name": "stderr",
     "output_type": "stream",
     "text": [
      "C:\\Users\\Nazzer\\anaconda3\\lib\\site-packages\\sklearn\\cluster\\_kmeans.py:881: UserWarning: KMeans is known to have a memory leak on Windows with MKL, when there are less chunks than available threads. You can avoid it by setting the environment variable OMP_NUM_THREADS=1.\n",
      "  warnings.warn(\n"
     ]
    },
    {
     "data": {
      "image/png": "[encoded data removed]",
      "text/plain": [
       "<Figure size 432x288 with 1 Axes>"
      ]
     },
     "metadata": {
      "needs_background": "light"
     },
     "output_type": "display_data"
    }
   ],
   "source": [
    "#finding optimal number of clusters using the elbow method  \n",
    "from sklearn.cluster import KMeans  \n",
    "wcss_list= []  #Initializing the list for the values of WCSS  \n",
    "  \n",
    "#Using for loop for iterations from 1 to 10.  \n",
    "for i in range(1, 11):  \n",
    "    kmeans = KMeans(n_clusters=i, init='k-means++', random_state= 42)  \n",
    "    kmeans.fit(x)  \n",
    "    wcss_list.append(kmeans.inertia_)  \n",
    "plt.plot(range(1, 11), wcss_list)  \n",
    "plt.title('The Elobw Method Graph')  \n",
    "plt.xlabel('Number of clusters(k)')  \n",
    "plt.ylabel('wcss_list')  \n",
    "plt.show() "
   ]
  },
  {
   "cell_type": "markdown",
   "id": "0d54200f",
   "metadata": {},
   "source": [
    "# Train the Model"
   ]
  },
  {
   "cell_type": "code",
   "execution_count": 49,
   "id": "08a1acc6",
   "metadata": {},
   "outputs": [],
   "source": [
    "#training the K-means model on a dataset  \n",
    "kmeans = KMeans(n_clusters=5, init='k-means++', random_state= 42)  \n",
    "y_predict= kmeans.fit_predict(x) "
   ]
  },
  {
   "cell_type": "code",
   "execution_count": 50,
   "id": "a6b36e96",
   "metadata": {},
   "outputs": [
    {
     "data": {
      "image/png": "[encoded data removed]",
      "text/plain": [
       "<Figure size 432x288 with 1 Axes>"
      ]
     },
     "metadata": {
      "needs_background": "light"
     },
     "output_type": "display_data"
    }
   ],
   "source": [
    "#visulaizing the clusters  \n",
    "plt.scatter(x[y_predict == 0, 0], x[y_predict == 0, 1], s = 100, c = 'blue', label = 'Cluster 1') #for first cluster  \n",
    "plt.scatter(x[y_predict == 1, 0], x[y_predict == 1, 1], s = 100, c = 'green', label = 'Cluster 2') #for second cluster  \n",
    "plt.scatter(x[y_predict== 2, 0], x[y_predict == 2, 1], s = 100, c = 'red', label = 'Cluster 3') #for third cluster  \n",
    "plt.scatter(x[y_predict == 3, 0], x[y_predict == 3, 1], s = 100, c = 'cyan', label = 'Cluster 4') #for fourth cluster  \n",
    "plt.scatter(x[y_predict == 4, 0], x[y_predict == 4, 1], s = 100, c = 'magenta', label = 'Cluster 5') #for fifth cluster  \n",
    "plt.scatter(kmeans.cluster_centers_[:, 0], kmeans.cluster_centers_[:, 1], s = 300, c = 'yellow', label = 'Centroid')   \n",
    "plt.title('Clusters of customers')  \n",
    "plt.xlabel('Annual Income (k$)')  \n",
    "plt.ylabel('Spending Score (1-100)')  \n",
    "plt.legend()  \n",
    "plt.show()  "
   ]
  },
  {
   "cell_type": "code",
   "execution_count": null,
   "id": "0c35018e",
   "metadata": {},
   "outputs": [],
   "source": []
  }
 ],
 "metadata": {
  "kernelspec": {
   "display_name": "Python 3 (ipykernel)",
   "language": "python",
   "name": "python3"
  },
  "language_info": {
   "codemirror_mode": {
    "name": "ipython",
    "version": 3
   },
   "file_extension": ".py",
   "mimetype": "text/x-python",
   "name": "python",
   "nbconvert_exporter": "python",
   "pygments_lexer": "ipython3",
   "version": "3.9.7"
  }
 },
 "nbformat": 4,
 "nbformat_minor": 5
}
